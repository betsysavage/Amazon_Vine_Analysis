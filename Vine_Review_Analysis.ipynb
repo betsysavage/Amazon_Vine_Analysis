{
  "nbformat": 4,
  "nbformat_minor": 0,
  "metadata": {
    "colab": {
      "provenance": []
    },
    "kernelspec": {
      "name": "python3",
      "display_name": "Python 3"
    },
    "language_info": {
      "name": "python"
    }
  },
  "cells": [
    {
      "cell_type": "code",
      "execution_count": 1,
      "metadata": {
        "colab": {
          "base_uri": "https://localhost:8080/"
        },
        "id": "YGgeA9tBHbau",
        "outputId": "fef6e5bf-ba4d-4b42-cadc-bf03d1c28296"
      },
      "outputs": [
        {
          "output_type": "stream",
          "name": "stdout",
          "text": [
            "Hit:1 http://archive.ubuntu.com/ubuntu focal InRelease\n",
            "Get:2 http://archive.ubuntu.com/ubuntu focal-updates InRelease [114 kB]\n",
            "Get:3 https://cloud.r-project.org/bin/linux/ubuntu focal-cran40/ InRelease [3,622 B]\n",
            "Ign:4 https://developer.download.nvidia.com/compute/machine-learning/repos/ubuntu2004/x86_64  InRelease\n",
            "Hit:5 https://developer.download.nvidia.com/compute/cuda/repos/ubuntu2004/x86_64  InRelease\n",
            "Hit:6 https://developer.download.nvidia.com/compute/machine-learning/repos/ubuntu2004/x86_64  Release\n",
            "Get:7 http://ppa.launchpad.net/c2d4u.team/c2d4u4.0+/ubuntu focal InRelease [18.1 kB]\n",
            "Get:8 http://security.ubuntu.com/ubuntu focal-security InRelease [114 kB]\n",
            "Get:9 http://archive.ubuntu.com/ubuntu focal-backports InRelease [108 kB]\n",
            "Hit:10 http://ppa.launchpad.net/cran/libgit2/ubuntu focal InRelease\n",
            "Hit:12 http://ppa.launchpad.net/deadsnakes/ppa/ubuntu focal InRelease\n",
            "Hit:13 http://ppa.launchpad.net/graphics-drivers/ppa/ubuntu focal InRelease\n",
            "Get:14 http://archive.ubuntu.com/ubuntu focal-updates/main amd64 Packages [3,014 kB]\n",
            "Hit:15 http://ppa.launchpad.net/ubuntugis/ppa/ubuntu focal InRelease\n",
            "Get:16 http://archive.ubuntu.com/ubuntu focal-updates/universe amd64 Packages [1,309 kB]\n",
            "Get:17 http://archive.ubuntu.com/ubuntu focal-updates/restricted amd64 Packages [2,134 kB]\n",
            "Get:18 http://archive.ubuntu.com/ubuntu focal-updates/multiverse amd64 Packages [31.2 kB]\n",
            "Get:19 http://ppa.launchpad.net/c2d4u.team/c2d4u4.0+/ubuntu focal/main Sources [2,396 kB]\n",
            "Get:20 http://security.ubuntu.com/ubuntu focal-security/universe amd64 Packages [1,011 kB]\n",
            "Get:21 http://ppa.launchpad.net/c2d4u.team/c2d4u4.0+/ubuntu focal/main amd64 Packages [1,136 kB]\n",
            "Get:22 http://security.ubuntu.com/ubuntu focal-security/main amd64 Packages [2,536 kB]\n",
            "Fetched 13.9 MB in 4s (3,122 kB/s)\n",
            "Reading package lists... Done\n"
          ]
        }
      ],
      "source": [
        "import os\n",
        "# Find the latest version of spark 3.2 from http://www.apache.org/dist/spark/ and enter as the spark version\n",
        "# For example:\n",
        "# spark_version = 'spark-3.2.3'\n",
        "spark_version = 'spark-3.2.3'\n",
        "os.environ['SPARK_VERSION']=spark_version\n",
        "\n",
        "# Install Spark and Java\n",
        "!apt-get update\n",
        "!apt-get install openjdk-11-jdk-headless -qq > /dev/null\n",
        "!wget -q http://www.apache.org/dist/spark/$SPARK_VERSION/$SPARK_VERSION-bin-hadoop2.7.tgz\n",
        "!tar xf $SPARK_VERSION-bin-hadoop2.7.tgz\n",
        "!pip install -q findspark\n",
        "\n",
        "# Set Environment Variables\n",
        "import os\n",
        "os.environ[\"JAVA_HOME\"] = \"/usr/lib/jvm/java-11-openjdk-amd64\"\n",
        "os.environ[\"SPARK_HOME\"] = f\"/content/{spark_version}-bin-hadoop2.7\"\n",
        "\n",
        "# Start a SparkSession\n",
        "import findspark\n",
        "findspark.init()"
      ]
    },
    {
      "cell_type": "code",
      "source": [
        "from pyspark.sql import SparkSession\n",
        "spark = SparkSession.builder.appName(\"M17-Amazon-Challenge\").config(\"spark.driver.extraClassPath\",\"/content/postgresql-42.2.16.jar\").getOrCreate()"
      ],
      "metadata": {
        "id": "MVOkGOPxH_Y3"
      },
      "execution_count": 2,
      "outputs": []
    },
    {
      "cell_type": "code",
      "source": [
        "from pyspark import SparkFiles\n",
        "url = \"https://s3.amazonaws.com/amazon-reviews-pds/tsv/amazon_reviews_us_Books_v1_00.tsv.gz\"\n",
        "spark.sparkContext.addFile(url)\n",
        "df = spark.read.option(\"encoding\", \"UTF-8\").csv(SparkFiles.get(\"amazon_reviews_us_Books_v1_00.tsv.gz\"), sep=\"\\t\", header=True, inferSchema=True)\n",
        "df.show(10)"
      ],
      "metadata": {
        "colab": {
          "base_uri": "https://localhost:8080/"
        },
        "id": "cyfhCp05IHGG",
        "outputId": "abea692f-a435-4965-fed1-e61a900b5785"
      },
      "execution_count": 3,
      "outputs": [
        {
          "output_type": "stream",
          "name": "stdout",
          "text": [
            "+-----------+-----------+--------------+----------+--------------+--------------------+----------------+-----------+-------------+-----------+----+-----------------+--------------------+--------------------+-----------+\n",
            "|marketplace|customer_id|     review_id|product_id|product_parent|       product_title|product_category|star_rating|helpful_votes|total_votes|vine|verified_purchase|     review_headline|         review_body|review_date|\n",
            "+-----------+-----------+--------------+----------+--------------+--------------------+----------------+-----------+-------------+-----------+----+-----------------+--------------------+--------------------+-----------+\n",
            "|         US|   25933450| RJOVP071AVAJO|0439873800|      84656342|There Was an Old ...|           Books|          5|            0|          0|   N|                Y|          Five Stars|I love it and so ...| 2015-08-31|\n",
            "|         US|    1801372|R1ORGBETCDW3AI|1623953553|     729938122|      I Saw a Friend|           Books|          5|            0|          0|   N|                Y|Please buy \"I Saw...|My wife and I ord...| 2015-08-31|\n",
            "|         US|    5782091| R7TNRFQAOUTX5|142151981X|     678139048|Black Lagoon, Vol. 6|           Books|          5|            0|          0|   N|                Y|       Shipped fast.|Great book just l...| 2015-08-31|\n",
            "|         US|   32715830|R2GANXKDIFZ6OI|014241543X|     712432151|           If I Stay|           Books|          5|            0|          0|   N|                N|          Five Stars|        So beautiful| 2015-08-31|\n",
            "|         US|   14005703|R2NYB6C3R8LVN6|1604600527|     800572372|Stars 'N Strips F...|           Books|          5|            2|          2|   N|                Y|          Five Stars|Enjoyed the autho...| 2015-08-31|\n",
            "|         US|   36205738|R13U5PBJI1H94K|0399170863|     559876774|            The Liar|           Books|          2|            1|          1|   N|                N|PREDICTABLE ALMOS...|Two or three page...| 2015-08-31|\n",
            "|         US|   44121167|R1H8UVH990F8VE|1517007240|     299984591|Devil in the Deta...|           Books|          5|            2|          2|   N|                N|The Monastery Mur...|&#34;Secrets in t...| 2015-08-31|\n",
            "|         US|   16519255|R2MC0N30WZMRQ5|0671728725|     821650353|Knowing When to S...|           Books|          5|            0|          0|   N|                Y|          Five Stars|          I love it!| 2015-08-31|\n",
            "|         US|   49361350| R2NO2HXK16Y4J|1111349533|     419457767|The American Pageant|           Books|          5|            0|          0|   N|                Y|          Five Stars|It was a great pu...| 2015-08-31|\n",
            "|         US|   11423253|R245YIAVJK82ZL|812211637X|     285887177|Punjabi C.L. Bibl...|           Books|          5|            0|          0|   N|                Y|          Five Stars|Quality product f...| 2015-08-31|\n",
            "+-----------+-----------+--------------+----------+--------------+--------------------+----------------+-----------+-------------+-----------+----+-----------------+--------------------+--------------------+-----------+\n",
            "only showing top 10 rows\n",
            "\n"
          ]
        }
      ]
    },
    {
      "cell_type": "code",
      "source": [
        "# Create the vine_table DataFrame\n",
        "vine_df = df.select([\"review_id\",\"star_rating\",\"helpful_votes\",\"total_votes\",\"vine\",\"verified_purchase\"])"
      ],
      "metadata": {
        "id": "vCGK05k8IOn0"
      },
      "execution_count": 4,
      "outputs": []
    },
    {
      "cell_type": "code",
      "source": [
        "# Convert star_rating from sring to integer\n",
        "from pyspark.sql.types import IntegerType\n",
        "vine_df = vine_df.withColumn(\"star_rating\", vine_df[\"star_rating\"].cast(IntegerType()))"
      ],
      "metadata": {
        "id": "Ag0gOAq6IkDU"
      },
      "execution_count": 5,
      "outputs": []
    },
    {
      "cell_type": "code",
      "source": [
        "# Show data types\n",
        "vine_df.printSchema()"
      ],
      "metadata": {
        "colab": {
          "base_uri": "https://localhost:8080/"
        },
        "id": "3uI-h2eKIq5b",
        "outputId": "fded892d-c83a-4dfe-b175-2f8a9c7e2282"
      },
      "execution_count": 6,
      "outputs": [
        {
          "output_type": "stream",
          "name": "stdout",
          "text": [
            "root\n",
            " |-- review_id: string (nullable = true)\n",
            " |-- star_rating: integer (nullable = true)\n",
            " |-- helpful_votes: integer (nullable = true)\n",
            " |-- total_votes: integer (nullable = true)\n",
            " |-- vine: string (nullable = true)\n",
            " |-- verified_purchase: string (nullable = true)\n",
            "\n"
          ]
        }
      ]
    },
    {
      "cell_type": "code",
      "source": [
        "# Show data frame\n",
        "vine_df.show(10)"
      ],
      "metadata": {
        "colab": {
          "base_uri": "https://localhost:8080/"
        },
        "id": "CBDV0D3iI0uW",
        "outputId": "42190f68-8a23-4fe0-ab29-a72909d0ee5c"
      },
      "execution_count": 7,
      "outputs": [
        {
          "output_type": "stream",
          "name": "stdout",
          "text": [
            "+--------------+-----------+-------------+-----------+----+-----------------+\n",
            "|     review_id|star_rating|helpful_votes|total_votes|vine|verified_purchase|\n",
            "+--------------+-----------+-------------+-----------+----+-----------------+\n",
            "| RJOVP071AVAJO|          5|            0|          0|   N|                Y|\n",
            "|R1ORGBETCDW3AI|          5|            0|          0|   N|                Y|\n",
            "| R7TNRFQAOUTX5|          5|            0|          0|   N|                Y|\n",
            "|R2GANXKDIFZ6OI|          5|            0|          0|   N|                N|\n",
            "|R2NYB6C3R8LVN6|          5|            2|          2|   N|                Y|\n",
            "|R13U5PBJI1H94K|          2|            1|          1|   N|                N|\n",
            "|R1H8UVH990F8VE|          5|            2|          2|   N|                N|\n",
            "|R2MC0N30WZMRQ5|          5|            0|          0|   N|                Y|\n",
            "| R2NO2HXK16Y4J|          5|            0|          0|   N|                Y|\n",
            "|R245YIAVJK82ZL|          5|            0|          0|   N|                Y|\n",
            "+--------------+-----------+-------------+-----------+----+-----------------+\n",
            "only showing top 10 rows\n",
            "\n"
          ]
        }
      ]
    },
    {
      "cell_type": "code",
      "source": [
        "# Step 1: Create a new DataFrame that filters the data to retrieve all the rows where the total_votes count is greater than or equal to 20\n",
        "vine_total_votes_df = vine_df.filter(\"total_votes>=20\")\n",
        "vine_total_votes_df.show(10)"
      ],
      "metadata": {
        "colab": {
          "base_uri": "https://localhost:8080/"
        },
        "id": "fvPf0tNbI-jy",
        "outputId": "05115239-4654-494a-b653-e93590406191"
      },
      "execution_count": 10,
      "outputs": [
        {
          "output_type": "stream",
          "name": "stdout",
          "text": [
            "+--------------+-----------+-------------+-----------+----+-----------------+\n",
            "|     review_id|star_rating|helpful_votes|total_votes|vine|verified_purchase|\n",
            "+--------------+-----------+-------------+-----------+----+-----------------+\n",
            "|R3T6LR4H11XRAN|          5|           26|         26|   N|                Y|\n",
            "|R3QFNFMFWOQIBO|          3|           15|         25|   N|                Y|\n",
            "|R24S2SV0ZIFIMV|          1|           41|         78|   N|                N|\n",
            "|R2QAPWF1M5863L|          1|            5|         23|   N|                N|\n",
            "|R3OCONKYE1A047|          5|           33|         38|   N|                N|\n",
            "|R28WZIA84DUP6C|          2|            4|         43|   N|                N|\n",
            "|R2U7YNJZ5JHWVD|          5|           23|         25|   N|                Y|\n",
            "|R1XVYF74WCJKO3|          1|           47|         49|   N|                N|\n",
            "|R3KKWNG5VABDYC|          5|           31|         32|   Y|                N|\n",
            "|R3KK9MHFLY2BVW|          5|           21|         22|   N|                N|\n",
            "+--------------+-----------+-------------+-----------+----+-----------------+\n",
            "only showing top 10 rows\n",
            "\n"
          ]
        }
      ]
    },
    {
      "cell_type": "code",
      "source": [
        "# Step 2: Create a new DataFrame that filters the data to retrieve all the rows where \n",
        "# the number of helpful_votes divided by total_votes is equal to or greater than 50%\n",
        "\n",
        "# Add a new column calculating helpful_votes / total_votes\n",
        "vine_helpful_votes_df = vine_total_votes_df.withColumn(\"Votes_Percent\", df[\"helpful_votes\"] / df[\"total_votes\"])\n",
        "vine_helpful_votes_df.show()\n",
        "\n",
        "\n"
      ],
      "metadata": {
        "colab": {
          "base_uri": "https://localhost:8080/"
        },
        "id": "VcdCpaXCJEkj",
        "outputId": "28259cc9-df30-4ba8-ad19-7eba6f647b38"
      },
      "execution_count": 13,
      "outputs": [
        {
          "output_type": "stream",
          "name": "stdout",
          "text": [
            "+--------------+-----------+-------------+-----------+----+-----------------+--------------------+\n",
            "|     review_id|star_rating|helpful_votes|total_votes|vine|verified_purchase|       Votes_Percent|\n",
            "+--------------+-----------+-------------+-----------+----+-----------------+--------------------+\n",
            "|R3T6LR4H11XRAN|          5|           26|         26|   N|                Y|                 1.0|\n",
            "|R3QFNFMFWOQIBO|          3|           15|         25|   N|                Y|                 0.6|\n",
            "|R24S2SV0ZIFIMV|          1|           41|         78|   N|                N|  0.5256410256410257|\n",
            "|R2QAPWF1M5863L|          1|            5|         23|   N|                N| 0.21739130434782608|\n",
            "|R3OCONKYE1A047|          5|           33|         38|   N|                N|   0.868421052631579|\n",
            "|R28WZIA84DUP6C|          2|            4|         43|   N|                N| 0.09302325581395349|\n",
            "|R2U7YNJZ5JHWVD|          5|           23|         25|   N|                Y|                0.92|\n",
            "|R1XVYF74WCJKO3|          1|           47|         49|   N|                N|  0.9591836734693877|\n",
            "|R3KKWNG5VABDYC|          5|           31|         32|   Y|                N|             0.96875|\n",
            "|R3KK9MHFLY2BVW|          5|           21|         22|   N|                N|  0.9545454545454546|\n",
            "|R2OEP8MGX5K370|          5|           30|         34|   N|                Y|  0.8823529411764706|\n",
            "| RTX63ENBKWCXF|          1|           28|         35|   N|                N|                 0.8|\n",
            "|R38I0D0J8O6LB6|          5|          101|        102|   N|                Y|  0.9901960784313726|\n",
            "|R16H89H2ZPISOL|          5|           66|         73|   N|                Y|  0.9041095890410958|\n",
            "|R1O92J5SV8J8G6|          5|          100|        102|   N|                Y|  0.9803921568627451|\n",
            "|R2N899RTMS7B7A|          1|           14|         20|   N|                Y|                 0.7|\n",
            "| RNRGC6W09WQM2|          1|            0|         45|   N|                Y|                 0.0|\n",
            "|R1FB2TRCTRIWWL|          1|            3|         20|   N|                N|                0.15|\n",
            "| RO7NYOSZ65X1T|          1|            1|         76|   N|                N|0.013157894736842105|\n",
            "|R2D9XX1FUD30NT|          1|           21|        213|   N|                N| 0.09859154929577464|\n",
            "+--------------+-----------+-------------+-----------+----+-----------------+--------------------+\n",
            "only showing top 20 rows\n",
            "\n"
          ]
        }
      ]
    },
    {
      "cell_type": "code",
      "source": [
        "# Filter the data frame to only include rows where the new column's value is .5 or above\n",
        "\n",
        "vine_helpful_votes_df = vine_helpful_votes_df.filter(\"Votes_Percent>=0.5\")\n",
        "vine_helpful_votes_df.show(10)\n"
      ],
      "metadata": {
        "colab": {
          "base_uri": "https://localhost:8080/"
        },
        "id": "8NOlSB5JMDkh",
        "outputId": "0ce1ba9f-addf-4eeb-ac41-1c2afb67f4c7"
      },
      "execution_count": 15,
      "outputs": [
        {
          "output_type": "stream",
          "name": "stdout",
          "text": [
            "+--------------+-----------+-------------+-----------+----+-----------------+------------------+\n",
            "|     review_id|star_rating|helpful_votes|total_votes|vine|verified_purchase|     Votes_Percent|\n",
            "+--------------+-----------+-------------+-----------+----+-----------------+------------------+\n",
            "|R3T6LR4H11XRAN|          5|           26|         26|   N|                Y|               1.0|\n",
            "|R3QFNFMFWOQIBO|          3|           15|         25|   N|                Y|               0.6|\n",
            "|R24S2SV0ZIFIMV|          1|           41|         78|   N|                N|0.5256410256410257|\n",
            "|R3OCONKYE1A047|          5|           33|         38|   N|                N| 0.868421052631579|\n",
            "|R2U7YNJZ5JHWVD|          5|           23|         25|   N|                Y|              0.92|\n",
            "|R1XVYF74WCJKO3|          1|           47|         49|   N|                N|0.9591836734693877|\n",
            "|R3KKWNG5VABDYC|          5|           31|         32|   Y|                N|           0.96875|\n",
            "|R3KK9MHFLY2BVW|          5|           21|         22|   N|                N|0.9545454545454546|\n",
            "|R2OEP8MGX5K370|          5|           30|         34|   N|                Y|0.8823529411764706|\n",
            "| RTX63ENBKWCXF|          1|           28|         35|   N|                N|               0.8|\n",
            "+--------------+-----------+-------------+-----------+----+-----------------+------------------+\n",
            "only showing top 10 rows\n",
            "\n"
          ]
        }
      ]
    },
    {
      "cell_type": "code",
      "source": [
        "# Step 3: Create a new DataFrame that filters the data to retrieve all the rows where a review was written as part of the Vine program (paid), vine == 'Y'.\n",
        "\n",
        "vine_paid_df = vine_helpful_votes_df.filter(vine_helpful_votes_df[\"vine\"]==\"Y\")\n",
        "vine_paid_df.show(10)"
      ],
      "metadata": {
        "colab": {
          "base_uri": "https://localhost:8080/"
        },
        "id": "FWASn1QGJbgP",
        "outputId": "e74ec8b0-3466-436b-9ccd-670adba7f17a"
      },
      "execution_count": 16,
      "outputs": [
        {
          "output_type": "stream",
          "name": "stdout",
          "text": [
            "+--------------+-----------+-------------+-----------+----+-----------------+------------------+\n",
            "|     review_id|star_rating|helpful_votes|total_votes|vine|verified_purchase|     Votes_Percent|\n",
            "+--------------+-----------+-------------+-----------+----+-----------------+------------------+\n",
            "|R3KKWNG5VABDYC|          5|           31|         32|   Y|                N|           0.96875|\n",
            "|R397PIJYYVJ7PD|          4|           31|         32|   Y|                N|           0.96875|\n",
            "| RP6Y2CTIFUYD0|          2|           31|         32|   Y|                N|           0.96875|\n",
            "|R1FYRNM5U0S2VZ|          3|           20|         24|   Y|                N|0.8333333333333334|\n",
            "| R1ME19UY4UNAO|          5|           53|         57|   Y|                N|0.9298245614035088|\n",
            "|R1JW7ZHT2VLT1E|          3|           40|         45|   Y|                N|0.8888888888888888|\n",
            "| R98UYXY43TURV|          4|           46|         50|   Y|                N|              0.92|\n",
            "|R34VXM3EJDS78Z|          3|          374|        410|   Y|                N|0.9121951219512195|\n",
            "|R1QX8UOW5JO6L0|          4|           20|         21|   Y|                N|0.9523809523809523|\n",
            "| R5Y5SXCRQ2GNH|          3|           34|         37|   Y|                N| 0.918918918918919|\n",
            "+--------------+-----------+-------------+-----------+----+-----------------+------------------+\n",
            "only showing top 10 rows\n",
            "\n"
          ]
        }
      ]
    },
    {
      "cell_type": "code",
      "source": [
        "# Step 4: Repeat Step 3 to retrieve all the rows where a review was NOT written as part of the Vine program (upaid), vine == 'N'\n",
        "\n",
        "vine_unpaid_df = vine_helpful_votes_df.filter(vine_helpful_votes_df[\"vine\"]==\"N\")\n",
        "vine_unpaid_df.show()"
      ],
      "metadata": {
        "colab": {
          "base_uri": "https://localhost:8080/"
        },
        "id": "s8suczSmNZ1N",
        "outputId": "3c128963-bccf-4d1b-bbc5-4f66886ec021"
      },
      "execution_count": 17,
      "outputs": [
        {
          "output_type": "stream",
          "name": "stdout",
          "text": [
            "+--------------+-----------+-------------+-----------+----+-----------------+------------------+\n",
            "|     review_id|star_rating|helpful_votes|total_votes|vine|verified_purchase|     Votes_Percent|\n",
            "+--------------+-----------+-------------+-----------+----+-----------------+------------------+\n",
            "|R3T6LR4H11XRAN|          5|           26|         26|   N|                Y|               1.0|\n",
            "|R3QFNFMFWOQIBO|          3|           15|         25|   N|                Y|               0.6|\n",
            "|R24S2SV0ZIFIMV|          1|           41|         78|   N|                N|0.5256410256410257|\n",
            "|R3OCONKYE1A047|          5|           33|         38|   N|                N| 0.868421052631579|\n",
            "|R2U7YNJZ5JHWVD|          5|           23|         25|   N|                Y|              0.92|\n",
            "|R1XVYF74WCJKO3|          1|           47|         49|   N|                N|0.9591836734693877|\n",
            "|R3KK9MHFLY2BVW|          5|           21|         22|   N|                N|0.9545454545454546|\n",
            "|R2OEP8MGX5K370|          5|           30|         34|   N|                Y|0.8823529411764706|\n",
            "| RTX63ENBKWCXF|          1|           28|         35|   N|                N|               0.8|\n",
            "|R38I0D0J8O6LB6|          5|          101|        102|   N|                Y|0.9901960784313726|\n",
            "|R16H89H2ZPISOL|          5|           66|         73|   N|                Y|0.9041095890410958|\n",
            "|R1O92J5SV8J8G6|          5|          100|        102|   N|                Y|0.9803921568627451|\n",
            "|R2N899RTMS7B7A|          1|           14|         20|   N|                Y|               0.7|\n",
            "|R2K2D1XN0J8SD5|          4|           19|         21|   N|                Y|0.9047619047619048|\n",
            "| RERKINI37W6KC|          5|           28|         31|   N|                Y|0.9032258064516129|\n",
            "| R9GDG4O1ZK10T|          1|           71|         86|   N|                Y|0.8255813953488372|\n",
            "|R3GOLJQC9OI7D4|          4|           28|         28|   N|                Y|               1.0|\n",
            "|R37RUX3TXFJN24|          5|           52|         58|   N|                Y| 0.896551724137931|\n",
            "|R1ESSNVJW3N2K4|          5|           42|         45|   N|                Y|0.9333333333333333|\n",
            "|R1Q1VLGAFGHLN7|          2|           78|         85|   N|                Y|0.9176470588235294|\n",
            "+--------------+-----------+-------------+-----------+----+-----------------+------------------+\n",
            "only showing top 20 rows\n",
            "\n"
          ]
        }
      ]
    },
    {
      "cell_type": "code",
      "source": [
        "# Step 5: For the two types of reviews (unpaid vs paid), determine the: \n",
        "#Total number of reviews\n",
        "#Number of 5-star reviews\n",
        "#Percentage of 5-star reviews"
      ],
      "metadata": {
        "id": "lcH6IzRtN2tt"
      },
      "execution_count": null,
      "outputs": []
    },
    {
      "cell_type": "code",
      "source": [
        "#Calculate the total number of paid reviews\n",
        "vine_paid_df.count()"
      ],
      "metadata": {
        "colab": {
          "base_uri": "https://localhost:8080/"
        },
        "id": "2TaA5BqpOTaS",
        "outputId": "a6e6273d-3524-44ba-c744-c9965689c533"
      },
      "execution_count": 24,
      "outputs": [
        {
          "output_type": "execute_result",
          "data": {
            "text/plain": [
              "5012"
            ]
          },
          "metadata": {},
          "execution_count": 24
        }
      ]
    },
    {
      "cell_type": "code",
      "source": [
        "#Calculate the total number of unpaid reviews\n",
        "vine_unpaid_df.count()"
      ],
      "metadata": {
        "colab": {
          "base_uri": "https://localhost:8080/"
        },
        "id": "MAw5C_6cPMj2",
        "outputId": "c6854e2c-47ac-47ef-9612-1de51da1cb74"
      },
      "execution_count": 25,
      "outputs": [
        {
          "output_type": "execute_result",
          "data": {
            "text/plain": [
              "109297"
            ]
          },
          "metadata": {},
          "execution_count": 25
        }
      ]
    },
    {
      "cell_type": "code",
      "source": [
        "#Calculate the number of 5-star paid reviews\n",
        "vine_paid_df.filter(\"star_rating==5\").count()"
      ],
      "metadata": {
        "colab": {
          "base_uri": "https://localhost:8080/"
        },
        "id": "c16QZvF2OOr2",
        "outputId": "3cc69fc5-d67d-43e8-920e-aba0e87d493f"
      },
      "execution_count": 21,
      "outputs": [
        {
          "output_type": "execute_result",
          "data": {
            "text/plain": [
              "2031"
            ]
          },
          "metadata": {},
          "execution_count": 21
        }
      ]
    },
    {
      "cell_type": "code",
      "source": [
        "#Calculate the number of 5-star upaid reviews\n",
        "vine_unpaid_df.filter(\"star_rating==5\").count()"
      ],
      "metadata": {
        "colab": {
          "base_uri": "https://localhost:8080/"
        },
        "id": "dvK5WxO4PWGg",
        "outputId": "8b80dbfd-4a50-4859-cd4a-2c9bb1882a28"
      },
      "execution_count": 22,
      "outputs": [
        {
          "output_type": "execute_result",
          "data": {
            "text/plain": [
              "49967"
            ]
          },
          "metadata": {},
          "execution_count": 22
        }
      ]
    },
    {
      "cell_type": "code",
      "source": [
        "#Calculate the percentage of paid reviews that were 5 stars\n",
        "percent_paid = 2031/5012*100\n",
        "percent_paid"
      ],
      "metadata": {
        "colab": {
          "base_uri": "https://localhost:8080/"
        },
        "id": "mDOt_V2yORl5",
        "outputId": "fe0f889c-4d8b-4c74-d34b-f8767b7e9d67"
      },
      "execution_count": 32,
      "outputs": [
        {
          "output_type": "execute_result",
          "data": {
            "text/plain": [
              "40.52274541101357"
            ]
          },
          "metadata": {},
          "execution_count": 32
        }
      ]
    },
    {
      "cell_type": "code",
      "source": [
        "#Calculate the percentage of unpaid reviews that were 5 stars\n",
        "percent_unpaid = 49967/109297*100\n",
        "percent_unpaid"
      ],
      "metadata": {
        "colab": {
          "base_uri": "https://localhost:8080/"
        },
        "id": "27roWFxLPfII",
        "outputId": "49665d3b-a3b6-4636-9e3e-69dc2934d505"
      },
      "execution_count": 33,
      "outputs": [
        {
          "output_type": "execute_result",
          "data": {
            "text/plain": [
              "45.716716835777746"
            ]
          },
          "metadata": {},
          "execution_count": 33
        }
      ]
    }
  ]
}